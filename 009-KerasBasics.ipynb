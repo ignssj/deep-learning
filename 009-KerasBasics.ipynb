{
 "cells": [
  {
   "cell_type": "code",
   "execution_count": 1,
   "id": "1da0368a",
   "metadata": {},
   "outputs": [],
   "source": [
    "import numpy as np\n",
    "from numpy import genfromtxt"
   ]
  },
  {
   "cell_type": "code",
   "execution_count": 3,
   "id": "9b638b7f",
   "metadata": {},
   "outputs": [],
   "source": [
    "data = genfromtxt('/home/wanakin/DATA/bank_note_data.txt',delimiter=',')"
   ]
  },
  {
   "cell_type": "code",
   "execution_count": 4,
   "id": "e1a58bae",
   "metadata": {},
   "outputs": [
    {
     "data": {
      "text/plain": [
       "array([[  3.6216 ,   8.6661 ,  -2.8073 ,  -0.44699,   0.     ],\n",
       "       [  4.5459 ,   8.1674 ,  -2.4586 ,  -1.4621 ,   0.     ],\n",
       "       [  3.866  ,  -2.6383 ,   1.9242 ,   0.10645,   0.     ],\n",
       "       ...,\n",
       "       [ -3.7503 , -13.4586 ,  17.5932 ,  -2.7771 ,   1.     ],\n",
       "       [ -3.5637 ,  -8.3827 ,  12.393  ,  -1.2823 ,   1.     ],\n",
       "       [ -2.5419 ,  -0.65804,   2.6842 ,   1.1952 ,   1.     ]])"
      ]
     },
     "execution_count": 4,
     "metadata": {},
     "output_type": "execute_result"
    }
   ],
   "source": [
    "data"
   ]
  },
  {
   "cell_type": "code",
   "execution_count": 5,
   "id": "30092e67",
   "metadata": {},
   "outputs": [],
   "source": [
    "labels = data[:,4]"
   ]
  },
  {
   "cell_type": "code",
   "execution_count": 6,
   "id": "1ea323c4",
   "metadata": {},
   "outputs": [
    {
     "data": {
      "text/plain": [
       "array([0., 0., 0., ..., 1., 1., 1.])"
      ]
     },
     "execution_count": 6,
     "metadata": {},
     "output_type": "execute_result"
    }
   ],
   "source": [
    "labels"
   ]
  },
  {
   "cell_type": "code",
   "execution_count": 7,
   "id": "fd82e997",
   "metadata": {},
   "outputs": [],
   "source": [
    "features = data[:,0:4]"
   ]
  },
  {
   "cell_type": "code",
   "execution_count": 8,
   "id": "48427ad6",
   "metadata": {},
   "outputs": [
    {
     "data": {
      "text/plain": [
       "array([[  3.6216 ,   8.6661 ,  -2.8073 ,  -0.44699],\n",
       "       [  4.5459 ,   8.1674 ,  -2.4586 ,  -1.4621 ],\n",
       "       [  3.866  ,  -2.6383 ,   1.9242 ,   0.10645],\n",
       "       ...,\n",
       "       [ -3.7503 , -13.4586 ,  17.5932 ,  -2.7771 ],\n",
       "       [ -3.5637 ,  -8.3827 ,  12.393  ,  -1.2823 ],\n",
       "       [ -2.5419 ,  -0.65804,   2.6842 ,   1.1952 ]])"
      ]
     },
     "execution_count": 8,
     "metadata": {},
     "output_type": "execute_result"
    }
   ],
   "source": [
    "features"
   ]
  },
  {
   "cell_type": "code",
   "execution_count": 9,
   "id": "05432b31",
   "metadata": {},
   "outputs": [],
   "source": [
    "X = features\n",
    "y = labels"
   ]
  },
  {
   "cell_type": "code",
   "execution_count": 10,
   "id": "94cd30b4",
   "metadata": {},
   "outputs": [],
   "source": [
    "from sklearn.model_selection import train_test_split\n",
    "X_train, X_test, y_train, y_test = train_test_split(X,y,test_size=0.33,random_state=42)"
   ]
  },
  {
   "cell_type": "code",
   "execution_count": 11,
   "id": "f7fad525",
   "metadata": {},
   "outputs": [
    {
     "data": {
      "text/plain": [
       "919"
      ]
     },
     "execution_count": 11,
     "metadata": {},
     "output_type": "execute_result"
    }
   ],
   "source": [
    "len(X_train)"
   ]
  },
  {
   "cell_type": "code",
   "execution_count": 12,
   "id": "3109b52e",
   "metadata": {},
   "outputs": [
    {
     "data": {
      "text/plain": [
       "453"
      ]
     },
     "execution_count": 12,
     "metadata": {},
     "output_type": "execute_result"
    }
   ],
   "source": [
    "len(X_test)"
   ]
  },
  {
   "cell_type": "code",
   "execution_count": 15,
   "id": "57e9b35d",
   "metadata": {},
   "outputs": [
    {
     "data": {
      "text/plain": [
       "1372"
      ]
     },
     "execution_count": 15,
     "metadata": {},
     "output_type": "execute_result"
    }
   ],
   "source": [
    "len(X)"
   ]
  },
  {
   "cell_type": "code",
   "execution_count": 17,
   "id": "a07dc9c1",
   "metadata": {},
   "outputs": [
    {
     "data": {
      "text/plain": [
       "17.9274"
      ]
     },
     "execution_count": 17,
     "metadata": {},
     "output_type": "execute_result"
    }
   ],
   "source": [
    "X_train.max()"
   ]
  },
  {
   "cell_type": "code",
   "execution_count": 18,
   "id": "5bcaaa2f",
   "metadata": {},
   "outputs": [
    {
     "data": {
      "text/plain": [
       "-13.7731"
      ]
     },
     "execution_count": 18,
     "metadata": {},
     "output_type": "execute_result"
    }
   ],
   "source": [
    "X_train.min()"
   ]
  },
  {
   "cell_type": "code",
   "execution_count": 19,
   "id": "b206d029",
   "metadata": {},
   "outputs": [],
   "source": [
    "from sklearn.preprocessing import MinMaxScaler"
   ]
  },
  {
   "cell_type": "code",
   "execution_count": 20,
   "id": "4f84d27c",
   "metadata": {},
   "outputs": [],
   "source": [
    "scaler_object = MinMaxScaler()"
   ]
  },
  {
   "cell_type": "code",
   "execution_count": 22,
   "id": "94cd93ae",
   "metadata": {},
   "outputs": [
    {
     "data": {
      "text/plain": [
       "array([[-0.8734  , -0.033118, -0.20165 ,  0.55774 ],\n",
       "       [ 2.0177  ,  1.7982  , -2.9581  ,  0.2099  ],\n",
       "       [-0.36038 ,  4.1158  ,  3.1143  , -0.37199 ],\n",
       "       ...,\n",
       "       [-7.0364  ,  9.2931  ,  0.16594 , -4.5396  ],\n",
       "       [-3.4605  ,  2.6901  ,  0.16165 , -1.0224  ],\n",
       "       [-3.3582  , -7.2404  , 11.4419  , -0.57113 ]])"
      ]
     },
     "execution_count": 22,
     "metadata": {},
     "output_type": "execute_result"
    }
   ],
   "source": [
    "X_train"
   ]
  },
  {
   "cell_type": "code",
   "execution_count": 25,
   "id": "20b46986",
   "metadata": {},
   "outputs": [
    {
     "data": {
      "text/plain": [
       "MinMaxScaler(copy=True, feature_range=(0, 1))"
      ]
     },
     "execution_count": 25,
     "metadata": {},
     "output_type": "execute_result"
    }
   ],
   "source": [
    "scaler_object.fit(X_train)"
   ]
  },
  {
   "cell_type": "code",
   "execution_count": 26,
   "id": "0c024173",
   "metadata": {},
   "outputs": [],
   "source": [
    "scaled_X_train = scaler_object.transform(X_train)"
   ]
  },
  {
   "cell_type": "code",
   "execution_count": 27,
   "id": "591dac20",
   "metadata": {},
   "outputs": [],
   "source": [
    "scaled_X_test = scaler_object.transform(X_test)"
   ]
  },
  {
   "cell_type": "code",
   "execution_count": 28,
   "id": "08c58b7d",
   "metadata": {},
   "outputs": [
    {
     "name": "stderr",
     "output_type": "stream",
     "text": [
      "Using TensorFlow backend.\n"
     ]
    }
   ],
   "source": [
    "from keras.models import Sequential\n",
    "from keras.layers import Dense"
   ]
  },
  {
   "cell_type": "code",
   "execution_count": 29,
   "id": "fb47b18d",
   "metadata": {},
   "outputs": [],
   "source": [
    "model = Sequential()\n",
    "\n",
    "model.add(Dense(4,input_dim=4,activation='relu'))\n",
    "model.add(Dense(8,activation='relu'))\n",
    "model.add(Dense(1,activation='sigmoid'))"
   ]
  },
  {
   "cell_type": "code",
   "execution_count": 30,
   "id": "8ce2a340",
   "metadata": {},
   "outputs": [],
   "source": [
    "model.compile(loss='binary_crossentropy',optimizer='adam',metrics=['accuracy'])"
   ]
  },
  {
   "cell_type": "code",
   "execution_count": 35,
   "id": "921969d3",
   "metadata": {},
   "outputs": [
    {
     "name": "stdout",
     "output_type": "stream",
     "text": [
      "Epoch 1/50\n",
      " - 0s - loss: 0.0272 - acc: 0.9913\n",
      "Epoch 2/50\n",
      " - 0s - loss: 0.0269 - acc: 0.9891\n",
      "Epoch 3/50\n",
      " - 0s - loss: 0.0270 - acc: 0.9891\n",
      "Epoch 4/50\n",
      " - 0s - loss: 0.0274 - acc: 0.9891\n",
      "Epoch 5/50\n",
      " - 0s - loss: 0.0267 - acc: 0.9891\n",
      "Epoch 6/50\n",
      " - 0s - loss: 0.0273 - acc: 0.9859\n",
      "Epoch 7/50\n",
      " - 0s - loss: 0.0279 - acc: 0.9859\n",
      "Epoch 8/50\n",
      " - 0s - loss: 0.0272 - acc: 0.9880\n",
      "Epoch 9/50\n",
      " - 0s - loss: 0.0274 - acc: 0.9891\n",
      "Epoch 10/50\n",
      " - 0s - loss: 0.0274 - acc: 0.9859\n",
      "Epoch 11/50\n",
      " - 0s - loss: 0.0264 - acc: 0.9891\n",
      "Epoch 12/50\n",
      " - 0s - loss: 0.0266 - acc: 0.9902\n",
      "Epoch 13/50\n",
      " - 0s - loss: 0.0265 - acc: 0.9913\n",
      "Epoch 14/50\n",
      " - 0s - loss: 0.0271 - acc: 0.9902\n",
      "Epoch 15/50\n",
      " - 0s - loss: 0.0276 - acc: 0.9880\n",
      "Epoch 16/50\n",
      " - 0s - loss: 0.0270 - acc: 0.9891\n",
      "Epoch 17/50\n",
      " - 0s - loss: 0.0260 - acc: 0.9891\n",
      "Epoch 18/50\n",
      " - 0s - loss: 0.0259 - acc: 0.9902\n",
      "Epoch 19/50\n",
      " - 0s - loss: 0.0265 - acc: 0.9913\n",
      "Epoch 20/50\n",
      " - 0s - loss: 0.0263 - acc: 0.9891\n",
      "Epoch 21/50\n",
      " - 0s - loss: 0.0258 - acc: 0.9902\n",
      "Epoch 22/50\n",
      " - 0s - loss: 0.0259 - acc: 0.9902\n",
      "Epoch 23/50\n",
      " - 0s - loss: 0.0260 - acc: 0.9880\n",
      "Epoch 24/50\n",
      " - 0s - loss: 0.0262 - acc: 0.9913\n",
      "Epoch 25/50\n",
      " - 0s - loss: 0.0265 - acc: 0.9891\n",
      "Epoch 26/50\n",
      " - 0s - loss: 0.0269 - acc: 0.9880\n",
      "Epoch 27/50\n",
      " - 0s - loss: 0.0259 - acc: 0.9891\n",
      "Epoch 28/50\n",
      " - 0s - loss: 0.0261 - acc: 0.9880\n",
      "Epoch 29/50\n",
      " - 0s - loss: 0.0271 - acc: 0.9902\n",
      "Epoch 30/50\n",
      " - 0s - loss: 0.0255 - acc: 0.9902\n",
      "Epoch 31/50\n",
      " - 0s - loss: 0.0257 - acc: 0.9902\n",
      "Epoch 32/50\n",
      " - 0s - loss: 0.0258 - acc: 0.9913\n",
      "Epoch 33/50\n",
      " - 0s - loss: 0.0258 - acc: 0.9891\n",
      "Epoch 34/50\n",
      " - 0s - loss: 0.0261 - acc: 0.9902\n",
      "Epoch 35/50\n",
      " - 0s - loss: 0.0258 - acc: 0.9891\n",
      "Epoch 36/50\n",
      " - 0s - loss: 0.0257 - acc: 0.9902\n",
      "Epoch 37/50\n",
      " - 0s - loss: 0.0255 - acc: 0.9891\n",
      "Epoch 38/50\n",
      " - 0s - loss: 0.0256 - acc: 0.9913\n",
      "Epoch 39/50\n",
      " - 0s - loss: 0.0250 - acc: 0.9902\n",
      "Epoch 40/50\n",
      " - 0s - loss: 0.0257 - acc: 0.9891\n",
      "Epoch 41/50\n",
      " - 0s - loss: 0.0252 - acc: 0.9880\n",
      "Epoch 42/50\n",
      " - 0s - loss: 0.0260 - acc: 0.9902\n",
      "Epoch 43/50\n",
      " - 0s - loss: 0.0269 - acc: 0.9880\n",
      "Epoch 44/50\n",
      " - 0s - loss: 0.0254 - acc: 0.9880\n",
      "Epoch 45/50\n",
      " - 0s - loss: 0.0257 - acc: 0.9891\n",
      "Epoch 46/50\n",
      " - 0s - loss: 0.0248 - acc: 0.9913\n",
      "Epoch 47/50\n",
      " - 0s - loss: 0.0248 - acc: 0.9902\n",
      "Epoch 48/50\n",
      " - 0s - loss: 0.0248 - acc: 0.9913\n",
      "Epoch 49/50\n",
      " - 0s - loss: 0.0253 - acc: 0.9869\n",
      "Epoch 50/50\n",
      " - 0s - loss: 0.0247 - acc: 0.9902\n"
     ]
    },
    {
     "data": {
      "text/plain": [
       "<keras.callbacks.History at 0x7f05232d12b0>"
      ]
     },
     "execution_count": 35,
     "metadata": {},
     "output_type": "execute_result"
    }
   ],
   "source": [
    "model.fit(scaled_X_train,y_train,epochs=50,verbose=2)"
   ]
  },
  {
   "cell_type": "code",
   "execution_count": null,
   "id": "78d51353",
   "metadata": {},
   "outputs": [],
   "source": []
  },
  {
   "cell_type": "code",
   "execution_count": 38,
   "id": "5b7e960f",
   "metadata": {},
   "outputs": [
    {
     "data": {
      "text/plain": [
       "['loss', 'acc']"
      ]
     },
     "execution_count": 38,
     "metadata": {},
     "output_type": "execute_result"
    }
   ],
   "source": [
    "model.metrics_names"
   ]
  },
  {
   "cell_type": "code",
   "execution_count": 39,
   "id": "06041863",
   "metadata": {},
   "outputs": [],
   "source": [
    "from sklearn.metrics import confusion_matrix,classification_report"
   ]
  },
  {
   "cell_type": "code",
   "execution_count": 40,
   "id": "a801887f",
   "metadata": {},
   "outputs": [],
   "source": [
    "predictions = model.predict_classes(scaled_X_test)"
   ]
  },
  {
   "cell_type": "code",
   "execution_count": 41,
   "id": "05fc411c",
   "metadata": {},
   "outputs": [
    {
     "data": {
      "text/plain": [
       "array([[254,   3],\n",
       "       [  2, 194]])"
      ]
     },
     "execution_count": 41,
     "metadata": {},
     "output_type": "execute_result"
    }
   ],
   "source": [
    "confusion_matrix(y_test,predictions)"
   ]
  },
  {
   "cell_type": "code",
   "execution_count": 42,
   "id": "d22bc421",
   "metadata": {},
   "outputs": [
    {
     "name": "stdout",
     "output_type": "stream",
     "text": [
      "             precision    recall  f1-score   support\n",
      "\n",
      "        0.0       0.99      0.99      0.99       257\n",
      "        1.0       0.98      0.99      0.99       196\n",
      "\n",
      "avg / total       0.99      0.99      0.99       453\n",
      "\n"
     ]
    }
   ],
   "source": [
    "print(classification_report(y_test,predictions))"
   ]
  },
  {
   "cell_type": "code",
   "execution_count": 43,
   "id": "37a61dc3",
   "metadata": {},
   "outputs": [],
   "source": [
    "model.save('BankNoteModel.h5')"
   ]
  },
  {
   "cell_type": "code",
   "execution_count": 44,
   "id": "ec2ab768",
   "metadata": {},
   "outputs": [],
   "source": [
    "# from keras.models import load_model\n",
    "# model = load_model('BankNoteModel.h5')"
   ]
  },
  {
   "cell_type": "code",
   "execution_count": null,
   "id": "e1fd6b92",
   "metadata": {},
   "outputs": [],
   "source": []
  }
 ],
 "metadata": {
  "kernelspec": {
   "display_name": "Python 3",
   "language": "python",
   "name": "python3"
  },
  "language_info": {
   "codemirror_mode": {
    "name": "ipython",
    "version": 3
   },
   "file_extension": ".py",
   "mimetype": "text/x-python",
   "name": "python",
   "nbconvert_exporter": "python",
   "pygments_lexer": "ipython3",
   "version": "3.6.6"
  }
 },
 "nbformat": 4,
 "nbformat_minor": 5
}
